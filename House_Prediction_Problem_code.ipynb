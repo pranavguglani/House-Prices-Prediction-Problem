{
  "metadata": {
    "_change_revision": 0,
    "_is_fork": false,
    "kernelspec": {
      "display_name": "Python 3",
      "language": "python",
      "name": "python3"
    },
    "language_info": {
      "codemirror_mode": {
        "name": "ipython",
        "version": 3
      },
      "file_extension": ".py",
      "mimetype": "text/x-python",
      "name": "python",
      "nbconvert_exporter": "python",
      "pygments_lexer": "ipython3",
      "version": "3.6.0"
    },
    "colab": {
      "provenance": []
    }
  },
  "nbformat_minor": 0,
  "nbformat": 4,
  "cells": [
    {
      "cell_type": "code",
      "source": [
        "import pandas as pd\n",
        "import numpy as np\n",
        "import seaborn as sns\n",
        "import matplotlib\n",
        "\n",
        "import matplotlib.pyplot as plt\n",
        "from scipy.stats import skew\n",
        "from scipy.stats.stats import pearsonr\n",
        "\n",
        "\n",
        "%config InlineBackend.figure_format = 'retina' #set 'png' here when working on notebook\n",
        "%matplotlib inline"
      ],
      "metadata": {
        "_cell_guid": "0d706811-b70c-aeab-a78b-3c7abd9978d3",
        "id": "r05rYxLGE7_G"
      },
      "execution_count": null,
      "outputs": []
    },
    {
      "cell_type": "code",
      "source": [
        "train = pd.read_csv(\"../input/train.csv\")\n",
        "test = pd.read_csv(\"../input/test.csv\")"
      ],
      "metadata": {
        "_cell_guid": "603292c1-44b7-d72a-5468-e6782f311603",
        "id": "OIJEXOEHE7_I"
      },
      "execution_count": null,
      "outputs": []
    },
    {
      "cell_type": "code",
      "source": [
        "train.head()"
      ],
      "metadata": {
        "_cell_guid": "d646bb1b-56c4-9b45-d5d4-27095f61b1c0",
        "id": "8NoY5KxQE7_J"
      },
      "execution_count": null,
      "outputs": []
    },
    {
      "cell_type": "code",
      "source": [
        "all_data = pd.concat((train.loc[:,'MSSubClass':'SaleCondition'],\n",
        "                      test.loc[:,'MSSubClass':'SaleCondition']))"
      ],
      "metadata": {
        "_cell_guid": "cb2d88d7-7f76-4b04-d28b-d2c315ae4346",
        "id": "xaRs6PaKE7_J"
      },
      "execution_count": null,
      "outputs": []
    },
    {
      "cell_type": "code",
      "source": [
        "matplotlib.rcParams['figure.figsize'] = (12.0, 6.0)\n",
        "prices = pd.DataFrame({\"price\":train[\"SalePrice\"], \"log(price + 1)\":np.log1p(train[\"SalePrice\"])})\n",
        "prices.hist()"
      ],
      "metadata": {
        "_cell_guid": "9b5a3e5b-f683-3fd2-7269-4068975bbe42",
        "id": "dvlBpiHGE7_K"
      },
      "execution_count": null,
      "outputs": []
    },
    {
      "cell_type": "code",
      "source": [
        "#log transform the target:\n",
        "train[\"SalePrice\"] = np.log1p(train[\"SalePrice\"])\n",
        "\n",
        "#log transform skewed numeric features:\n",
        "numeric_feats = all_data.dtypes[all_data.dtypes != \"object\"].index\n",
        "\n",
        "skewed_feats = train[numeric_feats].apply(lambda x: skew(x.dropna())) #compute skewness\n",
        "skewed_feats = skewed_feats[skewed_feats > 0.75]\n",
        "skewed_feats = skewed_feats.index\n",
        "\n",
        "all_data[skewed_feats] = np.log1p(all_data[skewed_feats])"
      ],
      "metadata": {
        "_cell_guid": "4ed54771-95c4-00e7-b2cd-569d17862878",
        "id": "FQCiEyr_E7_L"
      },
      "execution_count": null,
      "outputs": []
    },
    {
      "cell_type": "code",
      "source": [
        "all_data = pd.get_dummies(all_data)"
      ],
      "metadata": {
        "_cell_guid": "3854ab12-a4f3-4c88-fe6e-1fee08e18af2",
        "id": "AhWA-1qPE7_M"
      },
      "execution_count": null,
      "outputs": []
    },
    {
      "cell_type": "code",
      "source": [
        "#filling NA's with the mean of the column:\n",
        "all_data = all_data.fillna(all_data.mean())"
      ],
      "metadata": {
        "_cell_guid": "5d417300-0deb-3353-cabf-95f75af62678",
        "id": "zcqhcMCAE7_M"
      },
      "execution_count": null,
      "outputs": []
    },
    {
      "cell_type": "code",
      "source": [
        "#creating matrices for sklearn:\n",
        "X_train = all_data[:train.shape[0]]\n",
        "X_test = all_data[train.shape[0]:]\n",
        "y = train.SalePrice"
      ],
      "metadata": {
        "_cell_guid": "fe687685-cdac-0a89-4d71-af2d11d87a81",
        "id": "vFN_6kUDE7_N"
      },
      "execution_count": null,
      "outputs": []
    },
    {
      "cell_type": "code",
      "source": [
        "from sklearn.linear_model import Ridge, RidgeCV, ElasticNet, LassoCV, LassoLarsCV\n",
        "from sklearn.model_selection import cross_val_score\n",
        "\n",
        "def rmse_cv(model):\n",
        "    rmse= np.sqrt(-cross_val_score(model, X_train, y, scoring=\"neg_mean_squared_error\", cv = 5))\n",
        "    return(rmse)"
      ],
      "metadata": {
        "_cell_guid": "82886739-eee6-5d7a-4be9-e1fe6ac059f1",
        "id": "GXFfPqAzE7_O"
      },
      "execution_count": null,
      "outputs": []
    },
    {
      "cell_type": "code",
      "source": [
        "model_ridge = Ridge()"
      ],
      "metadata": {
        "_cell_guid": "436ce6e8-917f-8c88-3d7b-245e82a1619f",
        "id": "TpK0IqU9E7_O"
      },
      "execution_count": null,
      "outputs": []
    },
    {
      "cell_type": "code",
      "source": [
        "alphas = [0.05, 0.1, 0.3, 1, 3, 5, 10, 15, 30, 50, 75]\n",
        "cv_ridge = [rmse_cv(Ridge(alpha = alpha)).mean() \n",
        "            for alpha in alphas]"
      ],
      "metadata": {
        "_cell_guid": "f6b86166-f581-6e05-5274-d3d3516ebaf3",
        "id": "Q0z6o_KjE7_P"
      },
      "execution_count": null,
      "outputs": []
    },
    {
      "cell_type": "code",
      "source": [
        "cv_ridge = pd.Series(cv_ridge, index = alphas)\n",
        "cv_ridge.plot(title = \"Validation - Just Do It\")\n",
        "plt.xlabel(\"alpha\")\n",
        "plt.ylabel(\"rmse\")"
      ],
      "metadata": {
        "_cell_guid": "f8cf53ba-8441-9233-b7f5-a851d270b770",
        "id": "2jhwTvibE7_P"
      },
      "execution_count": null,
      "outputs": []
    },
    {
      "cell_type": "code",
      "source": [
        "cv_ridge.min()"
      ],
      "metadata": {
        "_cell_guid": "d42c18c9-ee70-929f-ce63-aac7f77796cc",
        "id": "DW0l7CSUE7_P"
      },
      "execution_count": null,
      "outputs": []
    },
    {
      "cell_type": "code",
      "source": [
        "model_lasso = LassoCV(alphas = [1, 0.1, 0.001, 0.0005]).fit(X_train, y)"
      ],
      "metadata": {
        "_cell_guid": "8204520c-a595-2ad2-4685-0b84cc662b84",
        "id": "KQna-tgsE7_Q"
      },
      "execution_count": null,
      "outputs": []
    },
    {
      "cell_type": "code",
      "source": [
        "rmse_cv(model_lasso).mean()"
      ],
      "metadata": {
        "_cell_guid": "e78e6126-4de0-08ad-250b-46a3f0f48de0",
        "id": "nwihzv2FE7_Q"
      },
      "execution_count": null,
      "outputs": []
    },
    {
      "cell_type": "code",
      "source": [
        "coef = pd.Series(model_lasso.coef_, index = X_train.columns)"
      ],
      "metadata": {
        "_cell_guid": "c7be87ca-412a-cb19-1524-cd94cf698d44",
        "id": "QMlKNBEQE7_Q"
      },
      "execution_count": null,
      "outputs": []
    },
    {
      "cell_type": "code",
      "source": [
        "print(\"Lasso picked \" + str(sum(coef != 0)) + \" variables and eliminated the other \" +  str(sum(coef == 0)) + \" variables\")"
      ],
      "metadata": {
        "_cell_guid": "14be641e-bbe0-824d-d90f-f47698c8b5c5",
        "id": "rrDNYp1eE7_R"
      },
      "execution_count": null,
      "outputs": []
    },
    {
      "cell_type": "code",
      "source": [
        "imp_coef = pd.concat([coef.sort_values().head(10),\n",
        "                     coef.sort_values().tail(10)])"
      ],
      "metadata": {
        "_cell_guid": "3efc02df-c877-b1fe-1807-5dd93c896c63",
        "id": "PsiGhi8LE7_R"
      },
      "execution_count": null,
      "outputs": []
    },
    {
      "cell_type": "code",
      "source": [
        "matplotlib.rcParams['figure.figsize'] = (8.0, 10.0)\n",
        "imp_coef.plot(kind = \"barh\")\n",
        "plt.title(\"Coefficients in the Lasso Model\")"
      ],
      "metadata": {
        "_cell_guid": "87317789-6e7e-d57f-0b54-d8ba0ee26abf",
        "id": "UKfgQXcsE7_R"
      },
      "execution_count": null,
      "outputs": []
    },
    {
      "cell_type": "code",
      "source": [
        "#let's look at the residuals as well:\n",
        "matplotlib.rcParams['figure.figsize'] = (6.0, 6.0)\n",
        "\n",
        "preds = pd.DataFrame({\"preds\":model_lasso.predict(X_train), \"true\":y})\n",
        "preds[\"residuals\"] = preds[\"true\"] - preds[\"preds\"]\n",
        "preds.plot(x = \"preds\", y = \"residuals\",kind = \"scatter\")"
      ],
      "metadata": {
        "_cell_guid": "cdeaa3d3-f9ad-2e06-1339-61b4425a43f8",
        "id": "gOubrULYE7_S"
      },
      "execution_count": null,
      "outputs": []
    },
    {
      "cell_type": "code",
      "source": [
        "import xgboost as xgb"
      ],
      "metadata": {
        "_cell_guid": "654e4fcf-a049-921a-4783-3c6d6dcca673",
        "id": "I94e75lpE7_S"
      },
      "execution_count": null,
      "outputs": []
    },
    {
      "cell_type": "code",
      "source": [
        "\n",
        "dtrain = xgb.DMatrix(X_train, label = y)\n",
        "dtest = xgb.DMatrix(X_test)\n",
        "\n",
        "params = {\"max_depth\":2, \"eta\":0.1}\n",
        "model = xgb.cv(params, dtrain,  num_boost_round=500, early_stopping_rounds=100)"
      ],
      "metadata": {
        "_cell_guid": "be53a9f8-d88b-05fb-734d-3a1388d39864",
        "id": "GUkK-32NE7_S"
      },
      "execution_count": null,
      "outputs": []
    },
    {
      "cell_type": "code",
      "source": [
        "model.loc[30:,[\"test-rmse-mean\", \"train-rmse-mean\"]].plot()"
      ],
      "metadata": {
        "_cell_guid": "c9d5bfe5-a0a8-0b10-d54a-1dfbb6123bd0",
        "id": "goeRli7wE7_S"
      },
      "execution_count": null,
      "outputs": []
    },
    {
      "cell_type": "code",
      "source": [
        "model_xgb = xgb.XGBRegressor(n_estimators=360, max_depth=2, learning_rate=0.1) #the params were tuned using xgb.cv\n",
        "model_xgb.fit(X_train, y)"
      ],
      "metadata": {
        "_cell_guid": "00b8a271-0f93-c757-7e33-516c3a297628",
        "id": "wFLnhvKHE7_T"
      },
      "execution_count": null,
      "outputs": []
    },
    {
      "cell_type": "code",
      "source": [
        "xgb_preds = np.expm1(model_xgb.predict(X_test))\n",
        "lasso_preds = np.expm1(model_lasso.predict(X_test))"
      ],
      "metadata": {
        "_cell_guid": "2b87a004-3a9a-77cc-4b5b-6540f870c028",
        "id": "wk6Td7aWE7_T"
      },
      "execution_count": null,
      "outputs": []
    },
    {
      "cell_type": "code",
      "source": [
        "predictions = pd.DataFrame({\"xgb\":xgb_preds, \"lasso\":lasso_preds})\n",
        "predictions.plot(x = \"xgb\", y = \"lasso\", kind = \"scatter\")"
      ],
      "metadata": {
        "_cell_guid": "1c9c640b-9e6c-a350-0691-7f6a7dc19c41",
        "id": "h1j1FIShE7_T"
      },
      "execution_count": null,
      "outputs": []
    },
    {
      "cell_type": "code",
      "source": [
        "preds = 0.7*lasso_preds + 0.3*xgb_preds"
      ],
      "metadata": {
        "_cell_guid": "623ed0fe-0150-5226-db27-90a321061d52",
        "id": "BW4rpOvHE7_T"
      },
      "execution_count": null,
      "outputs": []
    },
    {
      "cell_type": "code",
      "source": [
        "solution = pd.DataFrame({\"id\":test.Id, \"SalePrice\":preds})\n",
        "solution.to_csv(\"ridge_sol.csv\", index = False)"
      ],
      "metadata": {
        "_cell_guid": "569d7154-e3b5-84ab-1d28-57bdc02955d9",
        "id": "JPzFRCCLE7_T"
      },
      "execution_count": null,
      "outputs": []
    },
    {
      "cell_type": "code",
      "source": [
        "from keras.layers import Dense\n",
        "from keras.models import Sequential\n",
        "from keras.regularizers import l1\n",
        "from sklearn.preprocessing import StandardScaler\n",
        "from sklearn.model_selection import train_test_split"
      ],
      "metadata": {
        "_cell_guid": "12121592-5b16-5957-6c54-3fe84bc6708a",
        "id": "nC4pctr5E7_T"
      },
      "execution_count": null,
      "outputs": []
    },
    {
      "cell_type": "code",
      "source": [
        "X_train = StandardScaler().fit_transform(X_train)"
      ],
      "metadata": {
        "_cell_guid": "246a88ac-3963-a603-cf33-eb2976737c98",
        "id": "p0GVeVmdE7_U"
      },
      "execution_count": null,
      "outputs": []
    },
    {
      "cell_type": "code",
      "source": [
        "X_tr, X_val, y_tr, y_val = train_test_split(X_train, y, random_state = 3)"
      ],
      "metadata": {
        "_cell_guid": "04936965-5441-3989-1f07-97138b331dbc",
        "id": "QxYS17E6E7_U"
      },
      "execution_count": null,
      "outputs": []
    },
    {
      "cell_type": "code",
      "source": [
        "X_tr.shape"
      ],
      "metadata": {
        "_cell_guid": "5223b976-c02e-062e-5c73-60516bf70fa5",
        "id": "iBM9RP9HE7_U"
      },
      "execution_count": null,
      "outputs": []
    },
    {
      "cell_type": "code",
      "source": [
        "X_tr"
      ],
      "metadata": {
        "_cell_guid": "7b7e0df1-ea9c-5dcb-41cd-f79509218a20",
        "id": "8pBYRssOE7_U"
      },
      "execution_count": null,
      "outputs": []
    },
    {
      "cell_type": "code",
      "source": [
        "model = Sequential()\n",
        "#model.add(Dense(256, activation=\"relu\", input_dim = X_train.shape[1]))\n",
        "model.add(Dense(1, input_dim = X_train.shape[1], W_regularizer=l1(0.001)))\n",
        "\n",
        "model.compile(loss = \"mse\", optimizer = \"adam\")"
      ],
      "metadata": {
        "_cell_guid": "14ef62de-56e3-03cc-00c6-a5e2307d1b6a",
        "id": "7WMX9cePE7_U"
      },
      "execution_count": null,
      "outputs": []
    },
    {
      "cell_type": "code",
      "source": [
        "model.summary()"
      ],
      "metadata": {
        "_cell_guid": "082332bc-b36b-30db-1e0e-c212fba98b58",
        "id": "7IhYhpQmE7_U"
      },
      "execution_count": null,
      "outputs": []
    },
    {
      "cell_type": "code",
      "source": [
        "hist = model.fit(X_tr, y_tr, validation_data = (X_val, y_val))"
      ],
      "metadata": {
        "_cell_guid": "ad155a35-1d0b-c42f-9bdf-77ff389ddfd4",
        "id": "2WONjlK2E7_U"
      },
      "execution_count": null,
      "outputs": []
    },
    {
      "cell_type": "code",
      "source": [
        "pd.Series(model.predict(X_val)[:,0]).hist()"
      ],
      "metadata": {
        "_cell_guid": "d6c6354f-047b-1d8e-c024-15bb5d570f15",
        "id": "xF567ES7E7_U"
      },
      "execution_count": null,
      "outputs": []
    }
  ]
}